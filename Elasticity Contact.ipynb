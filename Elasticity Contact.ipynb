{
 "cells": [
  {
   "cell_type": "code",
   "execution_count": 25,
   "id": "d1d092ac-f3b1-4b20-87bb-78f710ab1422",
   "metadata": {},
   "outputs": [
    {
     "data": {
      "text/plain": [
       "<module 'Stress' from 'C:\\\\Users\\\\bai_f\\\\Documents\\\\Timken\\\\research\\\\FEM\\\\3D Elasticity\\\\Stress.py'>"
      ]
     },
     "execution_count": 25,
     "metadata": {},
     "output_type": "execute_result"
    }
   ],
   "source": [
    "import numpy as np\n",
    "from numpy import sin, cos, exp, sqrt\n",
    "import matplotlib.pyplot as plt\n",
    "\n",
    "# Reloading the module\n",
    "import importlib\n",
    "\n",
    "import Solid\n",
    "importlib.reload(Solid)\n",
    "\n",
    "import LinearSystem\n",
    "importlib.reload(LinearSystem)\n",
    "\n",
    "import Visualization\n",
    "importlib.reload(Visualization)\n",
    "\n",
    "import Utility\n",
    "importlib.reload(Utility)\n",
    "\n",
    "import Mesh\n",
    "importlib.reload(Mesh)\n",
    "\n",
    "import Stress\n",
    "importlib.reload(Stress)\n"
   ]
  },
  {
   "cell_type": "code",
   "execution_count": 26,
   "id": "1728183e-5383-47f0-9ce2-cbc4002e1901",
   "metadata": {},
   "outputs": [],
   "source": [
    "solid = Solid.Solid('cylinder_external_load')\n",
    "solid.set_ElasticProperty(E=1, nu=0.3)"
   ]
  },
  {
   "cell_type": "code",
   "execution_count": 27,
   "id": "0d2f42e6-99bf-459d-92b8-0a3681f6a6df",
   "metadata": {},
   "outputs": [],
   "source": [
    "func_u = np.empty(3, dtype=object)\n",
    "func_f = np.empty(3, dtype=object)\n",
    "func_p = np.empty(3, dtype=object)\n",
    "\n",
    "func_u[0] = lambda x, y, z: 0\n",
    "func_u[1] = lambda x, y, z: 0\n",
    "func_u[2] = lambda x, y, z: 0\n",
    "func_f[0] = lambda x, y, z: 0\n",
    "func_f[1] = lambda x, y, z: 0\n",
    "func_f[2] = lambda x, y, z: 0\n",
    "\n",
    "\n",
    "# Radius of the cylinder\n",
    "R = 4\n",
    "# Half height of the cylinder\n",
    "Hhalf = 5\n",
    "\n",
    "# Contact ellipse parameters\n",
    "a = 0.1\n",
    "b = 2\n",
    "\n",
    "# Parameters of the elliptical contact range\n",
    "phi0 = a / R\n",
    "s0 = b\n",
    "# Mid point of the outer surface\n",
    "rm = R\n",
    "zm = 0\n",
    "# Pressure magnitude\n",
    "Q = 1\n",
    "p0 = - 3 * Q / R / (2*np.pi * phi0 * s0) \n",
    "\n",
    "\n",
    "def func_pr(x, y, z, vect_norm): \n",
    "\n",
    "    temp = x + 1j * y\n",
    "    r = np.linalg.norm(temp)\n",
    "    phi = np.angle(temp)\n",
    "        \n",
    "    s = np.sqrt((r-rm)**2 + (z-zm)**2) # This is unnecessary for a vertical cylindrical surface, kept for generalization\n",
    "\n",
    "    term_in_sqrt = 1 - (phi/phi0)**2 - (s/s0)**2\n",
    "    \n",
    "    if term_in_sqrt>=0:\n",
    "        return p0 * np.sqrt(term_in_sqrt) \n",
    "    else:\n",
    "        return 0\n",
    "\n",
    "        \n",
    "func_p[0] = func_pr\n",
    "func_p[1] = lambda x, y, z, vect_norm: 0\n",
    "func_p[2] = lambda x, y, z, vect_norm: 0\n",
    "\n"
   ]
  },
  {
   "cell_type": "code",
   "execution_count": 28,
   "id": "71732661-16ad-4627-bf30-71d2ef97ae17",
   "metadata": {},
   "outputs": [
    {
     "name": "stdout",
     "output_type": "stream",
     "text": [
      "residue 1.0685896612017132e-15\n"
     ]
    }
   ],
   "source": [
    "# FEM\n",
    "import LinearSystem\n",
    "importlib.reload(LinearSystem)\n",
    "LHS, RHS = LinearSystem.set_LinearSystem(solid, func_u, func_f, func_p)\n",
    "LinearSystem.solv_LinearSystem(LHS, RHS, solid)"
   ]
  },
  {
   "cell_type": "code",
   "execution_count": 29,
   "id": "9bf4af3e-1a8f-4821-807a-d7dae58daa92",
   "metadata": {},
   "outputs": [],
   "source": [
    "import Stress\n",
    "importlib.reload(Stress)\n",
    "Stress.cal_Stress(solid)"
   ]
  },
  {
   "cell_type": "code",
   "execution_count": 30,
   "id": "2f6d0756-99f9-4b9e-a389-725ba2b6b461",
   "metadata": {},
   "outputs": [],
   "source": [
    "import Mesh\n",
    "importlib.reload(Mesh)\n",
    "Mesh.output_VTK(solid, solid.name)"
   ]
  }
 ],
 "metadata": {
  "kernelspec": {
   "display_name": "Python 3 (ipykernel)",
   "language": "python",
   "name": "python3"
  },
  "language_info": {
   "codemirror_mode": {
    "name": "ipython",
    "version": 3
   },
   "file_extension": ".py",
   "mimetype": "text/x-python",
   "name": "python",
   "nbconvert_exporter": "python",
   "pygments_lexer": "ipython3",
   "version": "3.12.4"
  }
 },
 "nbformat": 4,
 "nbformat_minor": 5
}
